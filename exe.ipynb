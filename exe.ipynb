{
 "cells": [
  {
   "cell_type": "code",
   "execution_count": null,
   "id": "282c398a",
   "metadata": {},
   "outputs": [],
   "source": [
    "import pyautogui\n",
    "import time\n",
    "time.sleep(5)\n",
    "import pyautogui\n",
    "screenWidth, screenHeight = pyautogui.size()\n",
    "print(screenWidth,screenHeight)\n",
    "# while 1:\n",
    "# \t# windll.user32.SetCursorPos(600,300);\n",
    "# \t# windll.user32.SetCursorPos(900,300);\n",
    "# \tpyautogui.click(600, 670, clicks=1, interval=0.0, button='left')\n",
    "# \ttime.sleep(10)\n"
   ]
  },
  {
   "cell_type": "code",
   "execution_count": null,
   "id": "d4a130f8",
   "metadata": {},
   "outputs": [],
   "source": []
  },
  {
   "cell_type": "code",
   "execution_count": null,
   "id": "0e3a9543",
   "metadata": {},
   "outputs": [],
   "source": []
  }
 ],
 "metadata": {
  "kernelspec": {
   "display_name": "Python 3",
   "language": "python",
   "name": "python3"
  },
  "language_info": {
   "codemirror_mode": {
    "name": "ipython",
    "version": 3
   },
   "file_extension": ".py",
   "mimetype": "text/x-python",
   "name": "python",
   "nbconvert_exporter": "python",
   "pygments_lexer": "ipython3",
   "version": "3.7.10"
  }
 },
 "nbformat": 4,
 "nbformat_minor": 5
}
